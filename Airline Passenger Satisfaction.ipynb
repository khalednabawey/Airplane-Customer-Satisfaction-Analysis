{
 "cells": [
  {
   "cell_type": "markdown",
   "id": "32c4ab7b",
   "metadata": {},
   "source": [
    "# Airline Passenger Satisfaction"
   ]
  },
  {
   "cell_type": "code",
   "execution_count": 5,
   "id": "92a6f0a7",
   "metadata": {},
   "outputs": [],
   "source": [
    "# importing neccsary libraries\n",
    "import pandas as pd\n",
    "import numpy as np\n",
    "# import matplotlib.pyplot as plt\n",
    "# import seaborn as sns\n",
    "from ipywidgets import widgets, interact\n",
    "\n",
    "from sklearn.preprocessing import LabelEncoder, StandardScaler\n",
    "from sklearn.linear_model import LogisticRegression\n",
    "from sklearn.svm import SVC\n",
    "from sklearn.ensemble import RandomForestClassifier\n",
    "from sklearn.pipeline import make_pipeline\n",
    "from sklearn.feature_selection import RFECV, VarianceThreshold, SelectPercentile, SelectKBest, SelectFpr, f_classif, RFE, mutual_info_classif\n",
    "from sklearn.neighbors import KNeighborsClassifier\n",
    "from sklearn.metrics import precision_score, recall_score, accuracy_score\n",
    "# from sklearn.metrics import plot_confusion_matrix\n",
    "\n",
    "import warnings\n",
    "warnings.filterwarnings(\"ignore\")"
   ]
  },
  {
   "cell_type": "markdown",
   "id": "a2be6112",
   "metadata": {},
   "source": [
    "### Reading the Data"
   ]
  },
  {
   "cell_type": "code",
   "execution_count": 7,
   "id": "f6d63adb",
   "metadata": {},
   "outputs": [],
   "source": [
    "# Reading the training and testing datasets\n",
    "train_df = pd.read_csv(r\"E:\\edu\\Data Science Tools\\Project DataSets\\Airline Passenger Staisfaction\\train.csv\").drop(\"Unnamed: 0\", axis = 1)\n",
    "test_df = pd.read_csv(r\"E:\\edu\\Data Science Tools\\Project DataSets\\Airline Passenger Staisfaction\\test.csv\").drop(\"Unnamed: 0\", axis = 1)\n",
    "\n",
    "df = pd.concat([train_df, test_df], ignore_index=True)"
   ]
  },
  {
   "cell_type": "markdown",
   "id": "c8868fce",
   "metadata": {},
   "source": [
    "   <p style = \"color:darkred; font-size:30px; font-style:bold\"><strong>Data Exploration & Cleaning</strong></p>"
   ]
  },
  {
   "cell_type": "code",
   "execution_count": 8,
   "id": "58ede44e",
   "metadata": {},
   "outputs": [
    {
     "name": "stdout",
     "output_type": "stream",
     "text": [
      "The dataset has 129880 rows and 24 columns.\n"
     ]
    },
    {
     "data": {
      "text/html": [
       "<div>\n",
       "<style scoped>\n",
       "    .dataframe tbody tr th:only-of-type {\n",
       "        vertical-align: middle;\n",
       "    }\n",
       "\n",
       "    .dataframe tbody tr th {\n",
       "        vertical-align: top;\n",
       "    }\n",
       "\n",
       "    .dataframe thead th {\n",
       "        text-align: right;\n",
       "    }\n",
       "</style>\n",
       "<table border=\"1\" class=\"dataframe\">\n",
       "  <thead>\n",
       "    <tr style=\"text-align: right;\">\n",
       "      <th></th>\n",
       "      <th>id</th>\n",
       "      <th>Gender</th>\n",
       "      <th>Customer Type</th>\n",
       "      <th>Age</th>\n",
       "      <th>Type of Travel</th>\n",
       "      <th>Class</th>\n",
       "      <th>Flight Distance</th>\n",
       "      <th>Inflight wifi service</th>\n",
       "      <th>Departure/Arrival time convenient</th>\n",
       "      <th>Ease of Online booking</th>\n",
       "      <th>...</th>\n",
       "      <th>Inflight entertainment</th>\n",
       "      <th>On-board service</th>\n",
       "      <th>Leg room service</th>\n",
       "      <th>Baggage handling</th>\n",
       "      <th>Checkin service</th>\n",
       "      <th>Inflight service</th>\n",
       "      <th>Cleanliness</th>\n",
       "      <th>Departure Delay in Minutes</th>\n",
       "      <th>Arrival Delay in Minutes</th>\n",
       "      <th>satisfaction</th>\n",
       "    </tr>\n",
       "  </thead>\n",
       "  <tbody>\n",
       "    <tr>\n",
       "      <th>0</th>\n",
       "      <td>70172</td>\n",
       "      <td>Male</td>\n",
       "      <td>Loyal Customer</td>\n",
       "      <td>13</td>\n",
       "      <td>Personal Travel</td>\n",
       "      <td>Eco Plus</td>\n",
       "      <td>460</td>\n",
       "      <td>3</td>\n",
       "      <td>4</td>\n",
       "      <td>3</td>\n",
       "      <td>...</td>\n",
       "      <td>5</td>\n",
       "      <td>4</td>\n",
       "      <td>3</td>\n",
       "      <td>4</td>\n",
       "      <td>4</td>\n",
       "      <td>5</td>\n",
       "      <td>5</td>\n",
       "      <td>25</td>\n",
       "      <td>18.0</td>\n",
       "      <td>neutral or dissatisfied</td>\n",
       "    </tr>\n",
       "    <tr>\n",
       "      <th>1</th>\n",
       "      <td>5047</td>\n",
       "      <td>Male</td>\n",
       "      <td>disloyal Customer</td>\n",
       "      <td>25</td>\n",
       "      <td>Business travel</td>\n",
       "      <td>Business</td>\n",
       "      <td>235</td>\n",
       "      <td>3</td>\n",
       "      <td>2</td>\n",
       "      <td>3</td>\n",
       "      <td>...</td>\n",
       "      <td>1</td>\n",
       "      <td>1</td>\n",
       "      <td>5</td>\n",
       "      <td>3</td>\n",
       "      <td>1</td>\n",
       "      <td>4</td>\n",
       "      <td>1</td>\n",
       "      <td>1</td>\n",
       "      <td>6.0</td>\n",
       "      <td>neutral or dissatisfied</td>\n",
       "    </tr>\n",
       "    <tr>\n",
       "      <th>2</th>\n",
       "      <td>110028</td>\n",
       "      <td>Female</td>\n",
       "      <td>Loyal Customer</td>\n",
       "      <td>26</td>\n",
       "      <td>Business travel</td>\n",
       "      <td>Business</td>\n",
       "      <td>1142</td>\n",
       "      <td>2</td>\n",
       "      <td>2</td>\n",
       "      <td>2</td>\n",
       "      <td>...</td>\n",
       "      <td>5</td>\n",
       "      <td>4</td>\n",
       "      <td>3</td>\n",
       "      <td>4</td>\n",
       "      <td>4</td>\n",
       "      <td>4</td>\n",
       "      <td>5</td>\n",
       "      <td>0</td>\n",
       "      <td>0.0</td>\n",
       "      <td>satisfied</td>\n",
       "    </tr>\n",
       "    <tr>\n",
       "      <th>3</th>\n",
       "      <td>24026</td>\n",
       "      <td>Female</td>\n",
       "      <td>Loyal Customer</td>\n",
       "      <td>25</td>\n",
       "      <td>Business travel</td>\n",
       "      <td>Business</td>\n",
       "      <td>562</td>\n",
       "      <td>2</td>\n",
       "      <td>5</td>\n",
       "      <td>5</td>\n",
       "      <td>...</td>\n",
       "      <td>2</td>\n",
       "      <td>2</td>\n",
       "      <td>5</td>\n",
       "      <td>3</td>\n",
       "      <td>1</td>\n",
       "      <td>4</td>\n",
       "      <td>2</td>\n",
       "      <td>11</td>\n",
       "      <td>9.0</td>\n",
       "      <td>neutral or dissatisfied</td>\n",
       "    </tr>\n",
       "    <tr>\n",
       "      <th>4</th>\n",
       "      <td>119299</td>\n",
       "      <td>Male</td>\n",
       "      <td>Loyal Customer</td>\n",
       "      <td>61</td>\n",
       "      <td>Business travel</td>\n",
       "      <td>Business</td>\n",
       "      <td>214</td>\n",
       "      <td>3</td>\n",
       "      <td>3</td>\n",
       "      <td>3</td>\n",
       "      <td>...</td>\n",
       "      <td>3</td>\n",
       "      <td>3</td>\n",
       "      <td>4</td>\n",
       "      <td>4</td>\n",
       "      <td>3</td>\n",
       "      <td>3</td>\n",
       "      <td>3</td>\n",
       "      <td>0</td>\n",
       "      <td>0.0</td>\n",
       "      <td>satisfied</td>\n",
       "    </tr>\n",
       "  </tbody>\n",
       "</table>\n",
       "<p>5 rows × 24 columns</p>\n",
       "</div>"
      ],
      "text/plain": [
       "       id  Gender      Customer Type  Age   Type of Travel     Class  \\\n",
       "0   70172    Male     Loyal Customer   13  Personal Travel  Eco Plus   \n",
       "1    5047    Male  disloyal Customer   25  Business travel  Business   \n",
       "2  110028  Female     Loyal Customer   26  Business travel  Business   \n",
       "3   24026  Female     Loyal Customer   25  Business travel  Business   \n",
       "4  119299    Male     Loyal Customer   61  Business travel  Business   \n",
       "\n",
       "   Flight Distance  Inflight wifi service  Departure/Arrival time convenient  \\\n",
       "0              460                      3                                  4   \n",
       "1              235                      3                                  2   \n",
       "2             1142                      2                                  2   \n",
       "3              562                      2                                  5   \n",
       "4              214                      3                                  3   \n",
       "\n",
       "   Ease of Online booking  ...  Inflight entertainment  On-board service  \\\n",
       "0                       3  ...                       5                 4   \n",
       "1                       3  ...                       1                 1   \n",
       "2                       2  ...                       5                 4   \n",
       "3                       5  ...                       2                 2   \n",
       "4                       3  ...                       3                 3   \n",
       "\n",
       "   Leg room service  Baggage handling  Checkin service  Inflight service  \\\n",
       "0                 3                 4                4                 5   \n",
       "1                 5                 3                1                 4   \n",
       "2                 3                 4                4                 4   \n",
       "3                 5                 3                1                 4   \n",
       "4                 4                 4                3                 3   \n",
       "\n",
       "   Cleanliness  Departure Delay in Minutes  Arrival Delay in Minutes  \\\n",
       "0            5                          25                      18.0   \n",
       "1            1                           1                       6.0   \n",
       "2            5                           0                       0.0   \n",
       "3            2                          11                       9.0   \n",
       "4            3                           0                       0.0   \n",
       "\n",
       "              satisfaction  \n",
       "0  neutral or dissatisfied  \n",
       "1  neutral or dissatisfied  \n",
       "2                satisfied  \n",
       "3  neutral or dissatisfied  \n",
       "4                satisfied  \n",
       "\n",
       "[5 rows x 24 columns]"
      ]
     },
     "execution_count": 8,
     "metadata": {},
     "output_type": "execute_result"
    }
   ],
   "source": [
    "# Showing the shape of the dataset (rows, columns)\n",
    "print(f\"The dataset has {df.shape[0]} rows and {df.shape[1]} columns.\")\n",
    "\n",
    "# Showing the fist five rows af the training dataset\n",
    "df.head()"
   ]
  },
  {
   "cell_type": "code",
   "execution_count": 9,
   "id": "1708b7f6",
   "metadata": {},
   "outputs": [
    {
     "name": "stdout",
     "output_type": "stream",
     "text": [
      "Number of null values in the train data: \n",
      "id                                     0\n",
      "Gender                                 0\n",
      "Customer Type                          0\n",
      "Age                                    0\n",
      "Type of Travel                         0\n",
      "Class                                  0\n",
      "Flight Distance                        0\n",
      "Inflight wifi service                  0\n",
      "Departure/Arrival time convenient      0\n",
      "Ease of Online booking                 0\n",
      "Gate location                          0\n",
      "Food and drink                         0\n",
      "Online boarding                        0\n",
      "Seat comfort                           0\n",
      "Inflight entertainment                 0\n",
      "On-board service                       0\n",
      "Leg room service                       0\n",
      "Baggage handling                       0\n",
      "Checkin service                        0\n",
      "Inflight service                       0\n",
      "Cleanliness                            0\n",
      "Departure Delay in Minutes             0\n",
      "Arrival Delay in Minutes             393\n",
      "satisfaction                           0\n",
      "dtype: int64\n"
     ]
    }
   ],
   "source": [
    "# Checking the number of null values in the dataset\n",
    "print(f\"Number of null values in the train data: \\n{df.isna().sum()}\")"
   ]
  },
  {
   "cell_type": "markdown",
   "id": "2d56bd05",
   "metadata": {},
   "source": [
    "- Our data is clean from null values except 'Arrival Delay in Minutes' column"
   ]
  },
  {
   "cell_type": "code",
   "execution_count": 10,
   "id": "d7b4d1ff",
   "metadata": {},
   "outputs": [
    {
     "name": "stdout",
     "output_type": "stream",
     "text": [
      "Number of duplicated Rows in the Data: 0\n"
     ]
    }
   ],
   "source": [
    "# Checking number of duplicated rows in the dataset\n",
    "print(f\"Number of duplicated Rows in the Data: {df.duplicated().sum()}\")"
   ]
  },
  {
   "cell_type": "code",
   "execution_count": 11,
   "id": "3a97ec9c",
   "metadata": {},
   "outputs": [],
   "source": [
    "# Filling the null values in the 'Arrival Delay in Minutes' column with zeros\n",
    "df.fillna(0, inplace = True)\n",
    "\n",
    "# Dropping the 'id' column cause we won't use it.\n",
    "df.drop(\"id\", axis = 1, inplace = True)"
   ]
  },
  {
   "cell_type": "markdown",
   "id": "553c54f7",
   "metadata": {},
   "source": [
    "### Clustering the age column into 4 categories "
   ]
  },
  {
   "cell_type": "code",
   "execution_count": 12,
   "id": "af3c1f32",
   "metadata": {},
   "outputs": [
    {
     "data": {
      "text/html": [
       "<div>\n",
       "<style scoped>\n",
       "    .dataframe tbody tr th:only-of-type {\n",
       "        vertical-align: middle;\n",
       "    }\n",
       "\n",
       "    .dataframe tbody tr th {\n",
       "        vertical-align: top;\n",
       "    }\n",
       "\n",
       "    .dataframe thead th {\n",
       "        text-align: right;\n",
       "    }\n",
       "</style>\n",
       "<table border=\"1\" class=\"dataframe\">\n",
       "  <thead>\n",
       "    <tr style=\"text-align: right;\">\n",
       "      <th></th>\n",
       "      <th>Age</th>\n",
       "      <th>Age_group</th>\n",
       "    </tr>\n",
       "  </thead>\n",
       "  <tbody>\n",
       "    <tr>\n",
       "      <th>0</th>\n",
       "      <td>13</td>\n",
       "      <td>kids (0 - 13)</td>\n",
       "    </tr>\n",
       "    <tr>\n",
       "      <th>1</th>\n",
       "      <td>25</td>\n",
       "      <td>Youth (13 - 30)</td>\n",
       "    </tr>\n",
       "    <tr>\n",
       "      <th>2</th>\n",
       "      <td>26</td>\n",
       "      <td>Youth (13 - 30)</td>\n",
       "    </tr>\n",
       "    <tr>\n",
       "      <th>3</th>\n",
       "      <td>25</td>\n",
       "      <td>Youth (13 - 30)</td>\n",
       "    </tr>\n",
       "    <tr>\n",
       "      <th>4</th>\n",
       "      <td>61</td>\n",
       "      <td>Old aged (60 &lt;)</td>\n",
       "    </tr>\n",
       "  </tbody>\n",
       "</table>\n",
       "</div>"
      ],
      "text/plain": [
       "   Age        Age_group\n",
       "0   13    kids (0 - 13)\n",
       "1   25  Youth (13 - 30)\n",
       "2   26  Youth (13 - 30)\n",
       "3   25  Youth (13 - 30)\n",
       "4   61  Old aged (60 <)"
      ]
     },
     "execution_count": 12,
     "metadata": {},
     "output_type": "execute_result"
    }
   ],
   "source": [
    "# Define the age bins and labels for each group\n",
    "bins = [0, 13, 30, 60, float('inf')]\n",
    "labels = ['kids (0 - 13)', 'Youth (13 - 30)', 'Mid aged (30 - 60)', 'Old aged (60 <)']\n",
    "\n",
    "# Create a new column \"age_group\"\n",
    "df['Age_group'] = pd.cut(df['Age'], bins=bins, labels=labels, right=True)\n",
    "\n",
    "df[[\"Age\",\"Age_group\"]].head()"
   ]
  },
  {
   "cell_type": "markdown",
   "id": "8d271c99",
   "metadata": {},
   "source": [
    "### Calculating the Overall Rating For each customer "
   ]
  },
  {
   "cell_type": "code",
   "execution_count": 13,
   "id": "06ea7f34",
   "metadata": {},
   "outputs": [
    {
     "data": {
      "text/plain": [
       "0    3.86\n",
       "1    2.29\n",
       "2    3.71\n",
       "3    3.00\n",
       "4    3.50\n",
       "Name: overall_rating, dtype: float64"
      ]
     },
     "execution_count": 13,
     "metadata": {},
     "output_type": "execute_result"
    }
   ],
   "source": [
    "satisfaction_columns = df.columns[6:-4]\n",
    "\n",
    "# Calculate the overall rating\n",
    "df['overall_rating'] = round(df[satisfaction_columns].mean(axis=1), 2)\n",
    "df['overall_rating'].head()"
   ]
  },
  {
   "cell_type": "code",
   "execution_count": 14,
   "id": "77477d7f",
   "metadata": {},
   "outputs": [
    {
     "data": {
      "application/vnd.jupyter.widget-view+json": {
       "model_id": "269bac49f7ba479d82ccef8860e98895",
       "version_major": 2,
       "version_minor": 0
      },
      "text/plain": [
       "interactive(children=(Dropdown(description='column', options=('Gender', 'Customer Type', 'Age', 'Type of Trave…"
      ]
     },
     "metadata": {},
     "output_type": "display_data"
    }
   ],
   "source": [
    "# Showing the main charactaristics of each column in the dataset\n",
    "@interact(column = df.columns)\n",
    "def column_info(column):\n",
    "    print(\"*\" * 10, column, \"*\" * 10)\n",
    "    display(df[column].value_counts())\n",
    "    print(\"-\" * 30)\n",
    "    display(df[column].describe())\n",
    "    print(\"=\" * 40)"
   ]
  },
  {
   "cell_type": "markdown",
   "id": "b5963d78",
   "metadata": {},
   "source": [
    "<p style = \"color:darkred; font-size:30px; font-style:bold\"><strong>Data Analysis</strong></p>"
   ]
  },
  {
   "cell_type": "markdown",
   "id": "6bc5ac4f",
   "metadata": {},
   "source": [
    "- We will use the training dataset in the analysis stage to gain information about the satisfaction of the passengers as it has the satisfaction rate in it"
   ]
  },
  {
   "cell_type": "code",
   "execution_count": null,
   "id": "7f6952b7",
   "metadata": {},
   "outputs": [],
   "source": [
    "@interact(column = df.select_dtypes(\"number\").columns)\n",
    "def plot_histogram(column):\n",
    "    plt.figure(figsize=(12, 8))  # Set the figure size here\n",
    "    sns.histplot(x = df[column], hue = df['satisfaction'], palette = \"magma\")\n",
    "    plt.title(f'{column} Histogram')\n",
    "    plt.show()"
   ]
  },
  {
   "cell_type": "markdown",
   "id": "2f75b864",
   "metadata": {},
   "source": [
    "<p style = \"color:darkblue; font-size:20px; font-style:bold\">\n",
    "    <strong>>>> What are the absolute satisfaction levels of our customers?</strong>\n",
    "</p>"
   ]
  },
  {
   "cell_type": "code",
   "execution_count": null,
   "id": "d9d2f8ea",
   "metadata": {},
   "outputs": [],
   "source": [
    "df['satisfaction'].value_counts().plot.pie(figsize = (12, 8),\n",
    "                                           title = \"Satisfied Or Dissatisfied PCT(%)\",\n",
    "                                           colors = sns.color_palette(\"bright\"),\n",
    "                                           autopct = \"%.3f\");"
   ]
  },
  {
   "cell_type": "markdown",
   "id": "f6c1a82d",
   "metadata": {},
   "source": [
    "- We need to analyze our data and see what are the reasons for this dissatisfaction !"
   ]
  },
  {
   "cell_type": "markdown",
   "id": "356d54a0",
   "metadata": {},
   "source": [
    "<p style = \"color:blue; font-size:20px; font-style:bold\">\n",
    "    <strong>>>> What are the satisfied age ranges in our customers ?</strong>\n",
    "</p>"
   ]
  },
  {
   "cell_type": "code",
   "execution_count": null,
   "id": "fa10f552",
   "metadata": {},
   "outputs": [],
   "source": [
    "plt.figure(figsize = (12, 8))\n",
    "plt.title(\"Statisfaction Age Range\")\n",
    "sns.lineplot(x = 'Age', y = \"satisfaction\", data = df, color = \"purple\");"
   ]
  },
  {
   "cell_type": "code",
   "execution_count": null,
   "id": "98bef5ca",
   "metadata": {},
   "outputs": [],
   "source": [
    "# Set the figure size\n",
    "plt.figure(figsize=(10, 6))\n",
    "\n",
    "sns.catplot(x=\"Age_group\", y=\"overall_rating\", data=df, palette=\"Purples\", kind=\"bar\", height=7.5, aspect=1.5)\n",
    "\n",
    "# Adding a title\n",
    "plt.title(\"Overall Rating by Each Age Group\")\n",
    "\n",
    "# Show the plot\n",
    "plt.show();"
   ]
  },
  {
   "cell_type": "code",
   "execution_count": null,
   "id": "77e6bc6d",
   "metadata": {},
   "outputs": [],
   "source": [
    "# Set the figure size\n",
    "plt.figure(figsize=(12, 8))\n",
    "\n",
    "sns.countplot(x = \"Age_group\", hue = \"Customer Type\", data=df, palette=\"dark\")\n",
    "\n",
    "# Adding a title\n",
    "plt.title(\"Customer Loyality by Each Age Group\")\n",
    "\n",
    "# Show the plot\n",
    "plt.show();"
   ]
  },
  {
   "cell_type": "markdown",
   "id": "7b9aca7b",
   "metadata": {},
   "source": [
    "<p style = \"color:darkblue; font-size:20px; font-style:bold\">\n",
    "    <strong>>>> What is the satisfaction level of each class in the flight?</strong>\n",
    "</p>"
   ]
  },
  {
   "cell_type": "code",
   "execution_count": null,
   "id": "ac4374a2",
   "metadata": {},
   "outputs": [],
   "source": [
    "# Getting the count of each combination of the satisfaction and the class columns\n",
    "class_satisfaction = pd.crosstab(df[\"Class\"], df['satisfaction'], \n",
    "                                 values = df['satisfaction'], aggfunc = \"count\").sort_values(\"satisfied\", ascending = False)\n",
    "# Showing the Table\n",
    "class_satisfaction"
   ]
  },
  {
   "cell_type": "code",
   "execution_count": null,
   "id": "9b41f8a9",
   "metadata": {},
   "outputs": [],
   "source": [
    "# A bar chart to denote the \n",
    "class_satisfaction.plot.bar(figsize = (12, 8), stacked=True, \n",
    "                            color = sns.color_palette(\"Oranges_r\", n_colors = len(class_satisfaction.columns)));"
   ]
  },
  {
   "cell_type": "markdown",
   "id": "33c20213",
   "metadata": {},
   "source": [
    "- We can see that the 'Business' class have the biggest satisfaction level between the three classes<br>\n",
    "- And the least satisfaction level comes from the 'Eco Plus' class so we can conclude that it's not worthy to upgrade the class from 'Eco' to 'Eco Plus'"
   ]
  },
  {
   "cell_type": "markdown",
   "id": "81c361ee",
   "metadata": {},
   "source": [
    "<p style = \"color:darkblue; font-size:20px; font-style:bold\">\n",
    "    <strong>>>> Does loyal customer tend to get business or personal flights?</strong>\n",
    "</p>"
   ]
  },
  {
   "cell_type": "code",
   "execution_count": null,
   "id": "246ccf6f",
   "metadata": {},
   "outputs": [],
   "source": [
    "flight_customer_type = pd.crosstab(df[\"Customer Type\"], df['Type of Travel'], \n",
    "                                                        values = df['overall_rating'], aggfunc = \"sum\")\n",
    "\n",
    "flight_customer_type"
   ]
  },
  {
   "cell_type": "markdown",
   "id": "4ee761ee",
   "metadata": {},
   "source": [
    "- Our loyal customers tend to take our business services "
   ]
  },
  {
   "cell_type": "markdown",
   "id": "5283d2e0",
   "metadata": {},
   "source": [
    "<p style = \"color:darkblue; font-size:20px; font-style:bold\">\n",
    "    <strong>>>> Are the passengers satisfied with the long distance flights or the short ones?</strong>\n",
    "</p>"
   ]
  },
  {
   "cell_type": "code",
   "execution_count": null,
   "id": "521b799a",
   "metadata": {},
   "outputs": [],
   "source": [
    "# Set the figure size\n",
    "plt.figure(figsize = (10, 6))\n",
    "\n",
    "sns.catplot(x = \"satisfaction\", y = \"Flight Distance\", data = df, kind = \"bar\", palette = \"pastel\", height = 7.3, aspect = 1.5);\n",
    "\n",
    "# Adding a title\n",
    "plt.title(\"Satifation per flight distance\")\n",
    "\n",
    "# Show the plot\n",
    "plt.show();"
   ]
  },
  {
   "cell_type": "markdown",
   "id": "06637d43",
   "metadata": {},
   "source": [
    "- Our passengers seems to be satisfied from the long distance flights more than the short distance flights especially in the business flights"
   ]
  },
  {
   "cell_type": "code",
   "execution_count": null,
   "id": "f36ef7a7",
   "metadata": {},
   "outputs": [],
   "source": [
    "sns.catplot(x = \"Flight Distance\", y = \"Type of Travel\", hue = \"satisfaction\", col=\"Class\",\n",
    "            data = df, kind = \"bar\", height = 5, aspect = 0.8, palette = \"pastel\");"
   ]
  },
  {
   "cell_type": "markdown",
   "id": "561eeee9",
   "metadata": {},
   "source": [
    "- The business class seems to have the biggest satisfaction rate among our customers The flight distance in it are big and the business travel especially has the biggest numbers."
   ]
  },
  {
   "cell_type": "markdown",
   "id": "e4245981",
   "metadata": {},
   "source": [
    "<p style = \"color:darkblue; font-size:20px; font-style:bold\">\n",
    "    <strong>>>> What is the different satisfaction ration between the customers who faced a delay in their flight and the customers who didn't?</strong>\n",
    "</p>"
   ]
  },
  {
   "cell_type": "code",
   "execution_count": null,
   "id": "11831624",
   "metadata": {},
   "outputs": [],
   "source": [
    "# Satisfacton for Customers with delayed flights \n",
    "delayed_flights = df[df['Departure Delay in Minutes'] != 0]\n",
    "delayed_flights_satisfaction = delayed_flights.groupby(\"satisfaction\")['Departure Delay in Minutes'].sum()\n",
    "delayed_flights_satisfaction.to_frame()"
   ]
  },
  {
   "cell_type": "code",
   "execution_count": null,
   "id": "bf7417e0",
   "metadata": {},
   "outputs": [],
   "source": [
    "# Satisfacton for Customers without delayed flights \n",
    "undelayed_flights_satisfaction = df[df['Departure Delay in Minutes'] == 0]['satisfaction'].value_counts()\n",
    "\n",
    "# Showing the count of satisfied vs unsatisfaied customers for the undelayed flights\n",
    "undelayed_flights_satisfaction.to_frame()"
   ]
  },
  {
   "cell_type": "code",
   "execution_count": null,
   "id": "215d151f",
   "metadata": {},
   "outputs": [],
   "source": [
    "fig, ax = plt.subplots(1, 2, figsize = (14, 6))\n",
    "\n",
    "delayed_flights_satisfaction.plot.bar(title = \"Minutes delayed for each satisfaction rank\", ax = ax[0], color = sns.color_palette(\"Reds_r\"))\n",
    "undelayed_flights_satisfaction.plot.pie(title = \"undelayed flights satisfaction\",\n",
    "                                        ax = ax[1], colors = sns.color_palette(\"Blues_r\"), autopct = '%.3f');"
   ]
  },
  {
   "cell_type": "markdown",
   "id": "4a28a981",
   "metadata": {},
   "source": [
    "- The total minutes delayed minutes for dissatisfied customers are by far higher than the minutes for satisfied customers.\n",
    "- We can see that the customers with undelayed flights had a better satisfaction ratio than the customers with the delayed flights."
   ]
  },
  {
   "cell_type": "code",
   "execution_count": null,
   "id": "a2e617f7",
   "metadata": {},
   "outputs": [],
   "source": [
    "plt.figure(figsize = (10, 6))\n",
    "sns.barplot(x = 'Departure/Arrival time convenient', y = \"Departure Delay in Minutes\",\n",
    "            data = delayed_flights, hue = \"satisfaction\", palette = \"magma\");\n",
    "\n",
    "plt.title(\"Delay minutes for each Departure convenient rank\")\n",
    "plt.show()"
   ]
  },
  {
   "cell_type": "markdown",
   "id": "a6681845",
   "metadata": {},
   "source": [
    "<p style = \"color:darkred; font-size:30px; font-style:bold\"><strong>ML Classification Model</strong></p>"
   ]
  },
  {
   "cell_type": "markdown",
   "id": "9d3514a4",
   "metadata": {},
   "source": [
    "### Train and test date cleaning"
   ]
  },
  {
   "cell_type": "code",
   "execution_count": 15,
   "id": "6f590ac0",
   "metadata": {},
   "outputs": [],
   "source": [
    "train_df.fillna(0, inplace = True)\n",
    "test_df.fillna(0, inplace = True)\n",
    "\n",
    "train_df.drop(\"id\", axis = 1, inplace = True)\n",
    "test_df.drop(\"id\", axis = 1, inplace = True)"
   ]
  },
  {
   "cell_type": "markdown",
   "id": "8161e96f",
   "metadata": {},
   "source": [
    "### Encoding the categorical columns"
   ]
  },
  {
   "cell_type": "code",
   "execution_count": 16,
   "id": "8dfe8976",
   "metadata": {},
   "outputs": [
    {
     "data": {
      "text/html": [
       "<div>\n",
       "<style scoped>\n",
       "    .dataframe tbody tr th:only-of-type {\n",
       "        vertical-align: middle;\n",
       "    }\n",
       "\n",
       "    .dataframe tbody tr th {\n",
       "        vertical-align: top;\n",
       "    }\n",
       "\n",
       "    .dataframe thead th {\n",
       "        text-align: right;\n",
       "    }\n",
       "</style>\n",
       "<table border=\"1\" class=\"dataframe\">\n",
       "  <thead>\n",
       "    <tr style=\"text-align: right;\">\n",
       "      <th></th>\n",
       "      <th>Age</th>\n",
       "      <th>Flight Distance</th>\n",
       "      <th>Inflight wifi service</th>\n",
       "      <th>Departure/Arrival time convenient</th>\n",
       "      <th>Ease of Online booking</th>\n",
       "      <th>Gate location</th>\n",
       "      <th>Food and drink</th>\n",
       "      <th>Online boarding</th>\n",
       "      <th>Seat comfort</th>\n",
       "      <th>Inflight entertainment</th>\n",
       "      <th>...</th>\n",
       "      <th>Checkin service</th>\n",
       "      <th>Inflight service</th>\n",
       "      <th>Cleanliness</th>\n",
       "      <th>Departure Delay in Minutes</th>\n",
       "      <th>Arrival Delay in Minutes</th>\n",
       "      <th>Gender_enc</th>\n",
       "      <th>Customer Type_enc</th>\n",
       "      <th>Type of Travel_enc</th>\n",
       "      <th>Class_enc</th>\n",
       "      <th>satisfaction_enc</th>\n",
       "    </tr>\n",
       "  </thead>\n",
       "  <tbody>\n",
       "    <tr>\n",
       "      <th>0</th>\n",
       "      <td>13</td>\n",
       "      <td>460</td>\n",
       "      <td>3</td>\n",
       "      <td>4</td>\n",
       "      <td>3</td>\n",
       "      <td>1</td>\n",
       "      <td>5</td>\n",
       "      <td>3</td>\n",
       "      <td>5</td>\n",
       "      <td>5</td>\n",
       "      <td>...</td>\n",
       "      <td>4</td>\n",
       "      <td>5</td>\n",
       "      <td>5</td>\n",
       "      <td>25</td>\n",
       "      <td>18.0</td>\n",
       "      <td>1</td>\n",
       "      <td>0</td>\n",
       "      <td>1</td>\n",
       "      <td>2</td>\n",
       "      <td>0</td>\n",
       "    </tr>\n",
       "    <tr>\n",
       "      <th>1</th>\n",
       "      <td>25</td>\n",
       "      <td>235</td>\n",
       "      <td>3</td>\n",
       "      <td>2</td>\n",
       "      <td>3</td>\n",
       "      <td>3</td>\n",
       "      <td>1</td>\n",
       "      <td>3</td>\n",
       "      <td>1</td>\n",
       "      <td>1</td>\n",
       "      <td>...</td>\n",
       "      <td>1</td>\n",
       "      <td>4</td>\n",
       "      <td>1</td>\n",
       "      <td>1</td>\n",
       "      <td>6.0</td>\n",
       "      <td>1</td>\n",
       "      <td>1</td>\n",
       "      <td>0</td>\n",
       "      <td>0</td>\n",
       "      <td>0</td>\n",
       "    </tr>\n",
       "    <tr>\n",
       "      <th>2</th>\n",
       "      <td>26</td>\n",
       "      <td>1142</td>\n",
       "      <td>2</td>\n",
       "      <td>2</td>\n",
       "      <td>2</td>\n",
       "      <td>2</td>\n",
       "      <td>5</td>\n",
       "      <td>5</td>\n",
       "      <td>5</td>\n",
       "      <td>5</td>\n",
       "      <td>...</td>\n",
       "      <td>4</td>\n",
       "      <td>4</td>\n",
       "      <td>5</td>\n",
       "      <td>0</td>\n",
       "      <td>0.0</td>\n",
       "      <td>0</td>\n",
       "      <td>0</td>\n",
       "      <td>0</td>\n",
       "      <td>0</td>\n",
       "      <td>1</td>\n",
       "    </tr>\n",
       "    <tr>\n",
       "      <th>3</th>\n",
       "      <td>25</td>\n",
       "      <td>562</td>\n",
       "      <td>2</td>\n",
       "      <td>5</td>\n",
       "      <td>5</td>\n",
       "      <td>5</td>\n",
       "      <td>2</td>\n",
       "      <td>2</td>\n",
       "      <td>2</td>\n",
       "      <td>2</td>\n",
       "      <td>...</td>\n",
       "      <td>1</td>\n",
       "      <td>4</td>\n",
       "      <td>2</td>\n",
       "      <td>11</td>\n",
       "      <td>9.0</td>\n",
       "      <td>0</td>\n",
       "      <td>0</td>\n",
       "      <td>0</td>\n",
       "      <td>0</td>\n",
       "      <td>0</td>\n",
       "    </tr>\n",
       "    <tr>\n",
       "      <th>4</th>\n",
       "      <td>61</td>\n",
       "      <td>214</td>\n",
       "      <td>3</td>\n",
       "      <td>3</td>\n",
       "      <td>3</td>\n",
       "      <td>3</td>\n",
       "      <td>4</td>\n",
       "      <td>5</td>\n",
       "      <td>5</td>\n",
       "      <td>3</td>\n",
       "      <td>...</td>\n",
       "      <td>3</td>\n",
       "      <td>3</td>\n",
       "      <td>3</td>\n",
       "      <td>0</td>\n",
       "      <td>0.0</td>\n",
       "      <td>1</td>\n",
       "      <td>0</td>\n",
       "      <td>0</td>\n",
       "      <td>0</td>\n",
       "      <td>1</td>\n",
       "    </tr>\n",
       "  </tbody>\n",
       "</table>\n",
       "<p>5 rows × 23 columns</p>\n",
       "</div>"
      ],
      "text/plain": [
       "   Age  Flight Distance  Inflight wifi service  \\\n",
       "0   13              460                      3   \n",
       "1   25              235                      3   \n",
       "2   26             1142                      2   \n",
       "3   25              562                      2   \n",
       "4   61              214                      3   \n",
       "\n",
       "   Departure/Arrival time convenient  Ease of Online booking  Gate location  \\\n",
       "0                                  4                       3              1   \n",
       "1                                  2                       3              3   \n",
       "2                                  2                       2              2   \n",
       "3                                  5                       5              5   \n",
       "4                                  3                       3              3   \n",
       "\n",
       "   Food and drink  Online boarding  Seat comfort  Inflight entertainment  ...  \\\n",
       "0               5                3             5                       5  ...   \n",
       "1               1                3             1                       1  ...   \n",
       "2               5                5             5                       5  ...   \n",
       "3               2                2             2                       2  ...   \n",
       "4               4                5             5                       3  ...   \n",
       "\n",
       "   Checkin service  Inflight service  Cleanliness  Departure Delay in Minutes  \\\n",
       "0                4                 5            5                          25   \n",
       "1                1                 4            1                           1   \n",
       "2                4                 4            5                           0   \n",
       "3                1                 4            2                          11   \n",
       "4                3                 3            3                           0   \n",
       "\n",
       "   Arrival Delay in Minutes  Gender_enc  Customer Type_enc  \\\n",
       "0                      18.0           1                  0   \n",
       "1                       6.0           1                  1   \n",
       "2                       0.0           0                  0   \n",
       "3                       9.0           0                  0   \n",
       "4                       0.0           1                  0   \n",
       "\n",
       "   Type of Travel_enc  Class_enc  satisfaction_enc  \n",
       "0                   1          2                 0  \n",
       "1                   0          0                 0  \n",
       "2                   0          0                 1  \n",
       "3                   0          0                 0  \n",
       "4                   0          0                 1  \n",
       "\n",
       "[5 rows x 23 columns]"
      ]
     },
     "execution_count": 16,
     "metadata": {},
     "output_type": "execute_result"
    }
   ],
   "source": [
    "# Instantiate LabelEncoder\n",
    "enc = LabelEncoder()\n",
    "\n",
    "# Encoding the categorical features in the training and test data \n",
    "for column in train_df.select_dtypes(\"O\").columns:\n",
    "    train_df[f'{column}_enc'] = enc.fit_transform(train_df[column])\n",
    "    train_df.drop(column, axis = 1, inplace = True)\n",
    "    \n",
    "for column in test_df.select_dtypes(\"O\").columns:\n",
    "    test_df[f'{column}_enc'] = enc.fit_transform(test_df[column])\n",
    "    test_df.drop(column, axis = 1, inplace = True)\n",
    "    \n",
    "train_df.head()"
   ]
  },
  {
   "cell_type": "markdown",
   "id": "3330997a",
   "metadata": {},
   "source": [
    "### Constructing the training matrix and target vector  "
   ]
  },
  {
   "cell_type": "code",
   "execution_count": 17,
   "id": "0399a3e8",
   "metadata": {},
   "outputs": [],
   "source": [
    "X_train = train_df.drop(\"satisfaction_enc\", axis = 1)\n",
    "y_train = train_df['satisfaction_enc']\n",
    "\n",
    "X_test = test_df.drop(\"satisfaction_enc\", axis = 1)\n",
    "y_test = test_df['satisfaction_enc']"
   ]
  },
  {
   "cell_type": "markdown",
   "id": "2219acaa",
   "metadata": {},
   "source": [
    "### Standarizing the data\n",
    "- For it to have Equal ranges "
   ]
  },
  {
   "cell_type": "code",
   "execution_count": 18,
   "id": "1fa1baf7",
   "metadata": {},
   "outputs": [
    {
     "data": {
      "text/html": [
       "<div>\n",
       "<style scoped>\n",
       "    .dataframe tbody tr th:only-of-type {\n",
       "        vertical-align: middle;\n",
       "    }\n",
       "\n",
       "    .dataframe tbody tr th {\n",
       "        vertical-align: top;\n",
       "    }\n",
       "\n",
       "    .dataframe thead th {\n",
       "        text-align: right;\n",
       "    }\n",
       "</style>\n",
       "<table border=\"1\" class=\"dataframe\">\n",
       "  <thead>\n",
       "    <tr style=\"text-align: right;\">\n",
       "      <th></th>\n",
       "      <th>Age</th>\n",
       "      <th>Flight Distance</th>\n",
       "      <th>Inflight wifi service</th>\n",
       "      <th>Departure/Arrival time convenient</th>\n",
       "      <th>Ease of Online booking</th>\n",
       "      <th>Gate location</th>\n",
       "      <th>Food and drink</th>\n",
       "      <th>Online boarding</th>\n",
       "      <th>Seat comfort</th>\n",
       "      <th>Inflight entertainment</th>\n",
       "      <th>...</th>\n",
       "      <th>Baggage handling</th>\n",
       "      <th>Checkin service</th>\n",
       "      <th>Inflight service</th>\n",
       "      <th>Cleanliness</th>\n",
       "      <th>Departure Delay in Minutes</th>\n",
       "      <th>Arrival Delay in Minutes</th>\n",
       "      <th>Gender_enc</th>\n",
       "      <th>Customer Type_enc</th>\n",
       "      <th>Type of Travel_enc</th>\n",
       "      <th>Class_enc</th>\n",
       "    </tr>\n",
       "  </thead>\n",
       "  <tbody>\n",
       "    <tr>\n",
       "      <th>0</th>\n",
       "      <td>-1.745279</td>\n",
       "      <td>-0.731539</td>\n",
       "      <td>0.203579</td>\n",
       "      <td>0.616172</td>\n",
       "      <td>0.173776</td>\n",
       "      <td>-1.547323</td>\n",
       "      <td>1.352264</td>\n",
       "      <td>-0.185532</td>\n",
       "      <td>1.183099</td>\n",
       "      <td>1.231704</td>\n",
       "      <td>...</td>\n",
       "      <td>0.311769</td>\n",
       "      <td>0.549799</td>\n",
       "      <td>1.156436</td>\n",
       "      <td>1.305870</td>\n",
       "      <td>0.266393</td>\n",
       "      <td>0.074169</td>\n",
       "      <td>1.015031</td>\n",
       "      <td>-0.472767</td>\n",
       "      <td>1.490614</td>\n",
       "      <td>2.264618</td>\n",
       "    </tr>\n",
       "    <tr>\n",
       "      <th>1</th>\n",
       "      <td>-0.951360</td>\n",
       "      <td>-0.957184</td>\n",
       "      <td>0.203579</td>\n",
       "      <td>-0.695245</td>\n",
       "      <td>0.173776</td>\n",
       "      <td>0.018094</td>\n",
       "      <td>-1.656326</td>\n",
       "      <td>-0.185532</td>\n",
       "      <td>-1.849315</td>\n",
       "      <td>-1.769081</td>\n",
       "      <td>...</td>\n",
       "      <td>-0.535045</td>\n",
       "      <td>-1.821012</td>\n",
       "      <td>0.305848</td>\n",
       "      <td>-1.742292</td>\n",
       "      <td>-0.361375</td>\n",
       "      <td>-0.236313</td>\n",
       "      <td>1.015031</td>\n",
       "      <td>2.115208</td>\n",
       "      <td>-0.670865</td>\n",
       "      <td>-0.957054</td>\n",
       "    </tr>\n",
       "    <tr>\n",
       "      <th>2</th>\n",
       "      <td>-0.885200</td>\n",
       "      <td>-0.047584</td>\n",
       "      <td>-0.549533</td>\n",
       "      <td>-0.695245</td>\n",
       "      <td>-0.541060</td>\n",
       "      <td>-0.764614</td>\n",
       "      <td>1.352264</td>\n",
       "      <td>1.296496</td>\n",
       "      <td>1.183099</td>\n",
       "      <td>1.231704</td>\n",
       "      <td>...</td>\n",
       "      <td>0.311769</td>\n",
       "      <td>0.549799</td>\n",
       "      <td>0.305848</td>\n",
       "      <td>1.305870</td>\n",
       "      <td>-0.387532</td>\n",
       "      <td>-0.391554</td>\n",
       "      <td>-0.985192</td>\n",
       "      <td>-0.472767</td>\n",
       "      <td>-0.670865</td>\n",
       "      <td>-0.957054</td>\n",
       "    </tr>\n",
       "    <tr>\n",
       "      <th>3</th>\n",
       "      <td>-0.951360</td>\n",
       "      <td>-0.629246</td>\n",
       "      <td>-0.549533</td>\n",
       "      <td>1.271880</td>\n",
       "      <td>1.603448</td>\n",
       "      <td>1.583511</td>\n",
       "      <td>-0.904178</td>\n",
       "      <td>-0.926545</td>\n",
       "      <td>-1.091211</td>\n",
       "      <td>-1.018885</td>\n",
       "      <td>...</td>\n",
       "      <td>-0.535045</td>\n",
       "      <td>-1.821012</td>\n",
       "      <td>0.305848</td>\n",
       "      <td>-0.980251</td>\n",
       "      <td>-0.099805</td>\n",
       "      <td>-0.158692</td>\n",
       "      <td>-0.985192</td>\n",
       "      <td>-0.472767</td>\n",
       "      <td>-0.670865</td>\n",
       "      <td>-0.957054</td>\n",
       "    </tr>\n",
       "    <tr>\n",
       "      <th>4</th>\n",
       "      <td>1.430397</td>\n",
       "      <td>-0.978244</td>\n",
       "      <td>0.203579</td>\n",
       "      <td>-0.039537</td>\n",
       "      <td>0.173776</td>\n",
       "      <td>0.018094</td>\n",
       "      <td>0.600117</td>\n",
       "      <td>1.296496</td>\n",
       "      <td>1.183099</td>\n",
       "      <td>-0.268688</td>\n",
       "      <td>...</td>\n",
       "      <td>0.311769</td>\n",
       "      <td>-0.240472</td>\n",
       "      <td>-0.544740</td>\n",
       "      <td>-0.218211</td>\n",
       "      <td>-0.387532</td>\n",
       "      <td>-0.391554</td>\n",
       "      <td>1.015031</td>\n",
       "      <td>-0.472767</td>\n",
       "      <td>-0.670865</td>\n",
       "      <td>-0.957054</td>\n",
       "    </tr>\n",
       "  </tbody>\n",
       "</table>\n",
       "<p>5 rows × 22 columns</p>\n",
       "</div>"
      ],
      "text/plain": [
       "        Age  Flight Distance  Inflight wifi service  \\\n",
       "0 -1.745279        -0.731539               0.203579   \n",
       "1 -0.951360        -0.957184               0.203579   \n",
       "2 -0.885200        -0.047584              -0.549533   \n",
       "3 -0.951360        -0.629246              -0.549533   \n",
       "4  1.430397        -0.978244               0.203579   \n",
       "\n",
       "   Departure/Arrival time convenient  Ease of Online booking  Gate location  \\\n",
       "0                           0.616172                0.173776      -1.547323   \n",
       "1                          -0.695245                0.173776       0.018094   \n",
       "2                          -0.695245               -0.541060      -0.764614   \n",
       "3                           1.271880                1.603448       1.583511   \n",
       "4                          -0.039537                0.173776       0.018094   \n",
       "\n",
       "   Food and drink  Online boarding  Seat comfort  Inflight entertainment  ...  \\\n",
       "0        1.352264        -0.185532      1.183099                1.231704  ...   \n",
       "1       -1.656326        -0.185532     -1.849315               -1.769081  ...   \n",
       "2        1.352264         1.296496      1.183099                1.231704  ...   \n",
       "3       -0.904178        -0.926545     -1.091211               -1.018885  ...   \n",
       "4        0.600117         1.296496      1.183099               -0.268688  ...   \n",
       "\n",
       "   Baggage handling  Checkin service  Inflight service  Cleanliness  \\\n",
       "0          0.311769         0.549799          1.156436     1.305870   \n",
       "1         -0.535045        -1.821012          0.305848    -1.742292   \n",
       "2          0.311769         0.549799          0.305848     1.305870   \n",
       "3         -0.535045        -1.821012          0.305848    -0.980251   \n",
       "4          0.311769        -0.240472         -0.544740    -0.218211   \n",
       "\n",
       "   Departure Delay in Minutes  Arrival Delay in Minutes  Gender_enc  \\\n",
       "0                    0.266393                  0.074169    1.015031   \n",
       "1                   -0.361375                 -0.236313    1.015031   \n",
       "2                   -0.387532                 -0.391554   -0.985192   \n",
       "3                   -0.099805                 -0.158692   -0.985192   \n",
       "4                   -0.387532                 -0.391554    1.015031   \n",
       "\n",
       "   Customer Type_enc  Type of Travel_enc  Class_enc  \n",
       "0          -0.472767            1.490614   2.264618  \n",
       "1           2.115208           -0.670865  -0.957054  \n",
       "2          -0.472767           -0.670865  -0.957054  \n",
       "3          -0.472767           -0.670865  -0.957054  \n",
       "4          -0.472767           -0.670865  -0.957054  \n",
       "\n",
       "[5 rows x 22 columns]"
      ]
     },
     "execution_count": 18,
     "metadata": {},
     "output_type": "execute_result"
    }
   ],
   "source": [
    "# Inistantiating the scaler object \n",
    "scaler = StandardScaler()\n",
    "\n",
    "# Fitting the scaler to the data and transforming it.\n",
    "X_train = pd.DataFrame(scaler.fit_transform(X_train), columns = train_df.columns[:-1])\n",
    "X_test = pd.DataFrame(scaler.transform(X_test), columns = test_df.columns[:-1])\n",
    "\n",
    "X_train.head()"
   ]
  },
  {
   "cell_type": "markdown",
   "id": "45f9415b",
   "metadata": {},
   "source": [
    "### LogisticRegression & RFE"
   ]
  },
  {
   "cell_type": "code",
   "execution_count": null,
   "id": "5f15815b",
   "metadata": {},
   "outputs": [],
   "source": [
    "# Instantiating the Logistic Regression model\n",
    "logreg = LogisticRegression()\n",
    "\n",
    "# Create an RFE selector with the logistic regression model\n",
    "num_features_to_select = 11  # Choose the number of features to select\n",
    "rfe_selector = RFE(logreg, n_features_to_select = num_features_to_select)\n",
    "\n",
    "# Fit the RFE selector on the training data\n",
    "X_train_selected = rfe_selector.fit_transform(X_train, y_train)\n",
    "\n",
    "# Use the selected features to transform the test data\n",
    "X_test_selected = rfe_selector.transform(X_test)\n",
    "\n",
    "# Get the names of the selected columns\n",
    "selected_columns = X_train.columns[rfe_selector.get_support()]\n",
    "\n",
    "# Print the selected columns\n",
    "print(\"Selected Columns:\", list(selected_columns))\n",
    "\n",
    "# Train a logistic regression model on the selected features\n",
    "logreg.fit(X_train_selected, y_train)"
   ]
  },
  {
   "cell_type": "code",
   "execution_count": null,
   "id": "273456ca",
   "metadata": {},
   "outputs": [],
   "source": [
    "# Make predictions on the test set\n",
    "y_pred = logreg.predict(X_test_selected)\n",
    "\n",
    "## Evaluating the combination model ##\n",
    "\n",
    "# Accuracy\n",
    "accuracy_train = accuracy_score(y_train, logreg.predict(X_train_selected))\n",
    "accuracy_test = accuracy_score(y_test, y_pred)\n",
    "print(\"Accuracy:\")\n",
    "print(\"\\tTraining -> \", round(accuracy_train, 4), end = \"\\t\")\n",
    "print(\"\\tTesting -> \", accuracy_test.round(4))\n",
    "# Precision\n",
    "print(\"Precision:\")\n",
    "print(\"\\tTraining -> \", precision_score(y_train, logreg.predict(X_train_selected)).round(4), end = \"\\t\")\n",
    "print(\"\\tTesting -> \", precision_score(y_test, y_pred).round(4))\n",
    "# Recall\n",
    "print(\"Recall:\")\n",
    "print(\"\\tTraining -> \", recall_score(y_train, logreg.predict(X_train_selected)).round(4), end = \"\\t\")\n",
    "print(\"\\tTesting -> \", recall_score(y_test, y_pred).round(4))"
   ]
  },
  {
   "cell_type": "markdown",
   "id": "1413cc2a",
   "metadata": {},
   "source": [
    "## KNN & KBest"
   ]
  },
  {
   "cell_type": "code",
   "execution_count": null,
   "id": "2579c6d5",
   "metadata": {},
   "outputs": [],
   "source": [
    "# Define the KNN classifier model\n",
    "knn_model = KNeighborsClassifier(n_neighbors=5)\n",
    "\n",
    "# Feature selection\n",
    "k_best_selector = SelectKBest(score_func = mutual_info_classif, k = num_features_to_select)\n",
    "\n",
    "# Fitting and transforming the feature matrix\n",
    "X_train_selected = k_best_selector.fit_transform(X_train, y_train)\n",
    "X_test_selected = k_best_selector.transform(X_test)\n",
    "\n",
    "# Training the KNN model on the selected features\n",
    "knn_model.fit(X_train_selected, y_train)\n",
    "\n",
    "# Predicting the target on the Test features \n",
    "y_pred = knn_model.predict(X_test_selected)\n",
    "\n",
    "# Get the index of the selected features\n",
    "selected_feature_indices = k_best_selector.get_support(indices=True)\n",
    "selected_features = X_train.columns[selected_feature_indices]\n",
    "print(\"Selected Features:\", list(selected_features))"
   ]
  },
  {
   "cell_type": "code",
   "execution_count": null,
   "id": "0be3be51",
   "metadata": {},
   "outputs": [],
   "source": [
    "## Evaluating the combination model ##\n",
    "\n",
    "# Accuracy\n",
    "accuracy_train = accuracy_score(y_train, knn_model.predict(X_train_selected))\n",
    "accuracy_test = accuracy_score(y_test, y_pred)\n",
    "print(\"Accuracy:\")\n",
    "print(\"\\tTraining -> \", round(accuracy_train, 4), end = \"\\t\")\n",
    "print(\"\\tTesting -> \", accuracy_test.round(4))\n",
    "\n",
    "# Precision\n",
    "print(\"Precision:\")\n",
    "print(\"\\tTraining -> \", precision_score(y_train, knn_model.predict(X_train_selected)).round(4), end = \"\\t\")\n",
    "print(\"\\tTesting -> \", precision_score(y_test, y_pred).round(4))\n",
    "\n",
    "# Recall\n",
    "print(\"Recall:\")\n",
    "print(\"\\tTraining -> \", recall_score(y_train, knn_model.predict(X_train_selected)).round(4), end = \"\\t\")\n",
    "print(\"\\tTesting -> \", recall_score(y_test, y_pred).round(4))"
   ]
  },
  {
   "cell_type": "markdown",
   "id": "8366c8ec",
   "metadata": {},
   "source": [
    "### RandomForestClassifier & SelectPercentile"
   ]
  },
  {
   "cell_type": "code",
   "execution_count": 19,
   "id": "507825c8",
   "metadata": {},
   "outputs": [
    {
     "name": "stdout",
     "output_type": "stream",
     "text": [
      "Selected Columns: ['Flight Distance', 'Inflight wifi service', 'Online boarding', 'Seat comfort', 'Inflight entertainment', 'On-board service', 'Leg room service', 'Baggage handling', 'Checkin service', 'Inflight service', 'Cleanliness', 'Type of Travel_enc', 'Class_enc']\n"
     ]
    },
    {
     "data": {
      "text/html": [
       "<style>#sk-container-id-1 {color: black;background-color: white;}#sk-container-id-1 pre{padding: 0;}#sk-container-id-1 div.sk-toggleable {background-color: white;}#sk-container-id-1 label.sk-toggleable__label {cursor: pointer;display: block;width: 100%;margin-bottom: 0;padding: 0.3em;box-sizing: border-box;text-align: center;}#sk-container-id-1 label.sk-toggleable__label-arrow:before {content: \"▸\";float: left;margin-right: 0.25em;color: #696969;}#sk-container-id-1 label.sk-toggleable__label-arrow:hover:before {color: black;}#sk-container-id-1 div.sk-estimator:hover label.sk-toggleable__label-arrow:before {color: black;}#sk-container-id-1 div.sk-toggleable__content {max-height: 0;max-width: 0;overflow: hidden;text-align: left;background-color: #f0f8ff;}#sk-container-id-1 div.sk-toggleable__content pre {margin: 0.2em;color: black;border-radius: 0.25em;background-color: #f0f8ff;}#sk-container-id-1 input.sk-toggleable__control:checked~div.sk-toggleable__content {max-height: 200px;max-width: 100%;overflow: auto;}#sk-container-id-1 input.sk-toggleable__control:checked~label.sk-toggleable__label-arrow:before {content: \"▾\";}#sk-container-id-1 div.sk-estimator input.sk-toggleable__control:checked~label.sk-toggleable__label {background-color: #d4ebff;}#sk-container-id-1 div.sk-label input.sk-toggleable__control:checked~label.sk-toggleable__label {background-color: #d4ebff;}#sk-container-id-1 input.sk-hidden--visually {border: 0;clip: rect(1px 1px 1px 1px);clip: rect(1px, 1px, 1px, 1px);height: 1px;margin: -1px;overflow: hidden;padding: 0;position: absolute;width: 1px;}#sk-container-id-1 div.sk-estimator {font-family: monospace;background-color: #f0f8ff;border: 1px dotted black;border-radius: 0.25em;box-sizing: border-box;margin-bottom: 0.5em;}#sk-container-id-1 div.sk-estimator:hover {background-color: #d4ebff;}#sk-container-id-1 div.sk-parallel-item::after {content: \"\";width: 100%;border-bottom: 1px solid gray;flex-grow: 1;}#sk-container-id-1 div.sk-label:hover label.sk-toggleable__label {background-color: #d4ebff;}#sk-container-id-1 div.sk-serial::before {content: \"\";position: absolute;border-left: 1px solid gray;box-sizing: border-box;top: 0;bottom: 0;left: 50%;z-index: 0;}#sk-container-id-1 div.sk-serial {display: flex;flex-direction: column;align-items: center;background-color: white;padding-right: 0.2em;padding-left: 0.2em;position: relative;}#sk-container-id-1 div.sk-item {position: relative;z-index: 1;}#sk-container-id-1 div.sk-parallel {display: flex;align-items: stretch;justify-content: center;background-color: white;position: relative;}#sk-container-id-1 div.sk-item::before, #sk-container-id-1 div.sk-parallel-item::before {content: \"\";position: absolute;border-left: 1px solid gray;box-sizing: border-box;top: 0;bottom: 0;left: 50%;z-index: -1;}#sk-container-id-1 div.sk-parallel-item {display: flex;flex-direction: column;z-index: 1;position: relative;background-color: white;}#sk-container-id-1 div.sk-parallel-item:first-child::after {align-self: flex-end;width: 50%;}#sk-container-id-1 div.sk-parallel-item:last-child::after {align-self: flex-start;width: 50%;}#sk-container-id-1 div.sk-parallel-item:only-child::after {width: 0;}#sk-container-id-1 div.sk-dashed-wrapped {border: 1px dashed gray;margin: 0 0.4em 0.5em 0.4em;box-sizing: border-box;padding-bottom: 0.4em;background-color: white;}#sk-container-id-1 div.sk-label label {font-family: monospace;font-weight: bold;display: inline-block;line-height: 1.2em;}#sk-container-id-1 div.sk-label-container {text-align: center;}#sk-container-id-1 div.sk-container {/* jupyter's `normalize.less` sets `[hidden] { display: none; }` but bootstrap.min.css set `[hidden] { display: none !important; }` so we also need the `!important` here to be able to override the default hidden behavior on the sphinx rendered scikit-learn.org. See: https://github.com/scikit-learn/scikit-learn/issues/21755 */display: inline-block !important;position: relative;}#sk-container-id-1 div.sk-text-repr-fallback {display: none;}</style><div id=\"sk-container-id-1\" class=\"sk-top-container\"><div class=\"sk-text-repr-fallback\"><pre>RandomForestClassifier()</pre><b>In a Jupyter environment, please rerun this cell to show the HTML representation or trust the notebook. <br />On GitHub, the HTML representation is unable to render, please try loading this page with nbviewer.org.</b></div><div class=\"sk-container\" hidden><div class=\"sk-item\"><div class=\"sk-estimator sk-toggleable\"><input class=\"sk-toggleable__control sk-hidden--visually\" id=\"sk-estimator-id-1\" type=\"checkbox\" checked><label for=\"sk-estimator-id-1\" class=\"sk-toggleable__label sk-toggleable__label-arrow\">RandomForestClassifier</label><div class=\"sk-toggleable__content\"><pre>RandomForestClassifier()</pre></div></div></div></div></div>"
      ],
      "text/plain": [
       "RandomForestClassifier()"
      ]
     },
     "execution_count": 19,
     "metadata": {},
     "output_type": "execute_result"
    }
   ],
   "source": [
    "# Intstantiating the 'SelectPercentile' selector object\n",
    "selector = SelectPercentile(score_func = f_classif, percentile = 60)\n",
    "\n",
    "X_train_selected = selector.fit_transform(X_train, y_train)\n",
    "X_test_selected = selector.transform(X_test)\n",
    "\n",
    "# Inistansiate the rf classifier object\n",
    "rf_model = RandomForestClassifier()\n",
    "\n",
    "# Get the names of the selected columns\n",
    "selected_columns = X_train.columns[selector.get_support()]\n",
    "\n",
    "# Show the selected columns\n",
    "print(\"Selected Columns:\", list(selected_columns))\n",
    "\n",
    "# Fitting the model to the selected training data \n",
    "rf_model.fit(X_train_selected, y_train)"
   ]
  },
  {
   "cell_type": "code",
   "execution_count": 20,
   "id": "773f9e7b",
   "metadata": {},
   "outputs": [
    {
     "name": "stdout",
     "output_type": "stream",
     "text": [
      "Accuracy:\n",
      "\tTraining ->  0.9999422543886665\t\tTesting ->  0.9511\n",
      "Precision:\n",
      "\tTraining ->  0.9999333703498057\t\tTesting ->  0.959\n",
      "Recall:\n",
      "\tTraining ->  0.9999333703498057\t\tTesting ->  0.9284\n"
     ]
    }
   ],
   "source": [
    "## Evaluating the combination model ##\n",
    "\n",
    "y_pred = rf_model.predict(X_test_selected)\n",
    "\n",
    "# Accuracy\n",
    "accuracy_train = accuracy_score(y_train, rf_model.predict(X_train_selected))\n",
    "accuracy_test = accuracy_score(y_test, y_pred)\n",
    "print(\"Accuracy:\")\n",
    "print(\"\\tTraining -> \", accuracy_train, end = \"\\t\")\n",
    "print(\"\\tTesting -> \", accuracy_test.round(4))\n",
    "\n",
    "# Precision\n",
    "print(\"Precision:\")\n",
    "print(\"\\tTraining -> \", precision_score(y_train, rf_model.predict(X_train_selected)), end = \"\\t\")\n",
    "print(\"\\tTesting -> \", precision_score(y_test, y_pred).round(4))\n",
    "\n",
    "# Recall\n",
    "print(\"Recall:\")\n",
    "print(\"\\tTraining -> \", recall_score(y_train, rf_model.predict(X_train_selected)), end = \"\\t\")\n",
    "print(\"\\tTesting -> \", recall_score(y_test, y_pred).round(4))"
   ]
  },
  {
   "cell_type": "code",
   "execution_count": null,
   "id": "fddf9a96",
   "metadata": {},
   "outputs": [],
   "source": []
  },
  {
   "cell_type": "code",
   "execution_count": 22,
   "id": "a6f0d981",
   "metadata": {},
   "outputs": [],
   "source": [
    "import pickle\n",
    "\n",
    "with open(r\"./Airline Staisfaction Data/model.pth\", mode = \"wb\") as f:\n",
    "  pickle.dump(rf_model, f)\n",
    "\n"
   ]
  },
  {
   "cell_type": "code",
   "execution_count": 23,
   "id": "5156bb40",
   "metadata": {},
   "outputs": [
    {
     "name": "stdout",
     "output_type": "stream",
     "text": [
      "^C\n"
     ]
    }
   ],
   "source": [
    "!streamlit run air-survey-app.py"
   ]
  },
  {
   "cell_type": "code",
   "execution_count": null,
   "id": "ff94d5d1",
   "metadata": {},
   "outputs": [],
   "source": [
    "# Constructing the confusion matrix\n",
    "confusion_matrix_values = plot_confusion_matrix(rf_model, X_test_selected, y_test).confusion_matrix\n",
    "\n",
    "# Extracting TP, FP, TN, FN\n",
    "TP = confusion_matrix_values[1, 1]  # True Positive\n",
    "FP = confusion_matrix_values[0, 1]  # False Positive\n",
    "TN = confusion_matrix_values[0, 0]  # True Negative\n",
    "FN = confusion_matrix_values[1, 0]  # False Negative\n",
    "\n",
    "print(f\"True Positives (TP): {TP}\")\n",
    "print(f\"False Positives (FP): {FP}\")\n",
    "print(f\"True Negatives (TN): {TN}\")\n",
    "print(f\"False Negatives (FN): {FN}\")"
   ]
  },
  {
   "cell_type": "code",
   "execution_count": null,
   "id": "b2bdfddf",
   "metadata": {},
   "outputs": [],
   "source": []
  }
 ],
 "metadata": {
  "kernelspec": {
   "display_name": "Python 3 (ipykernel)",
   "language": "python",
   "name": "python3"
  },
  "language_info": {
   "codemirror_mode": {
    "name": "ipython",
    "version": 3
   },
   "file_extension": ".py",
   "mimetype": "text/x-python",
   "name": "python",
   "nbconvert_exporter": "python",
   "pygments_lexer": "ipython3",
   "version": "3.10.4"
  }
 },
 "nbformat": 4,
 "nbformat_minor": 5
}
